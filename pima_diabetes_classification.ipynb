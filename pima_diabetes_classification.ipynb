{
 "cells": [
  {
   "cell_type": "markdown",
   "metadata": {},
   "source": [
    "# Pima Indians Diabetes Classification - Toby Liang"
   ]
  },
  {
   "cell_type": "markdown",
   "metadata": {},
   "source": [
    "## Importing Essential Libraries"
   ]
  },
  {
   "cell_type": "code",
   "execution_count": 87,
   "metadata": {},
   "outputs": [],
   "source": [
    "# Import essential libraries\n",
    "import pandas as pd\n",
    "import numpy as np\n",
    "\n",
    "# Filter warnings\n",
    "import warnings\n",
    "warnings.filterwarnings(\"ignore\")"
   ]
  },
  {
   "cell_type": "markdown",
   "metadata": {},
   "source": [
    "## Data Summary"
   ]
  },
  {
   "cell_type": "code",
   "execution_count": 88,
   "metadata": {},
   "outputs": [
    {
     "data": {
      "text/html": [
       "<div>\n",
       "<style scoped>\n",
       "    .dataframe tbody tr th:only-of-type {\n",
       "        vertical-align: middle;\n",
       "    }\n",
       "\n",
       "    .dataframe tbody tr th {\n",
       "        vertical-align: top;\n",
       "    }\n",
       "\n",
       "    .dataframe thead th {\n",
       "        text-align: right;\n",
       "    }\n",
       "</style>\n",
       "<table border=\"1\" class=\"dataframe\">\n",
       "  <thead>\n",
       "    <tr style=\"text-align: right;\">\n",
       "      <th></th>\n",
       "      <th>pregnancies</th>\n",
       "      <th>glucose</th>\n",
       "      <th>blood_pressure</th>\n",
       "      <th>skin_thickness</th>\n",
       "      <th>insulin</th>\n",
       "      <th>body_mass_index</th>\n",
       "      <th>pedigree</th>\n",
       "      <th>age</th>\n",
       "      <th>label</th>\n",
       "    </tr>\n",
       "  </thead>\n",
       "  <tbody>\n",
       "    <tr>\n",
       "      <th>0</th>\n",
       "      <td>6</td>\n",
       "      <td>148</td>\n",
       "      <td>72</td>\n",
       "      <td>35</td>\n",
       "      <td>0</td>\n",
       "      <td>33.6</td>\n",
       "      <td>0.627</td>\n",
       "      <td>50</td>\n",
       "      <td>1</td>\n",
       "    </tr>\n",
       "    <tr>\n",
       "      <th>1</th>\n",
       "      <td>1</td>\n",
       "      <td>85</td>\n",
       "      <td>66</td>\n",
       "      <td>29</td>\n",
       "      <td>0</td>\n",
       "      <td>26.6</td>\n",
       "      <td>0.351</td>\n",
       "      <td>31</td>\n",
       "      <td>0</td>\n",
       "    </tr>\n",
       "    <tr>\n",
       "      <th>2</th>\n",
       "      <td>8</td>\n",
       "      <td>183</td>\n",
       "      <td>64</td>\n",
       "      <td>0</td>\n",
       "      <td>0</td>\n",
       "      <td>23.3</td>\n",
       "      <td>0.672</td>\n",
       "      <td>32</td>\n",
       "      <td>1</td>\n",
       "    </tr>\n",
       "    <tr>\n",
       "      <th>3</th>\n",
       "      <td>1</td>\n",
       "      <td>89</td>\n",
       "      <td>66</td>\n",
       "      <td>23</td>\n",
       "      <td>94</td>\n",
       "      <td>28.1</td>\n",
       "      <td>0.167</td>\n",
       "      <td>21</td>\n",
       "      <td>0</td>\n",
       "    </tr>\n",
       "    <tr>\n",
       "      <th>4</th>\n",
       "      <td>0</td>\n",
       "      <td>137</td>\n",
       "      <td>40</td>\n",
       "      <td>35</td>\n",
       "      <td>168</td>\n",
       "      <td>43.1</td>\n",
       "      <td>2.288</td>\n",
       "      <td>33</td>\n",
       "      <td>1</td>\n",
       "    </tr>\n",
       "  </tbody>\n",
       "</table>\n",
       "</div>"
      ],
      "text/plain": [
       "   pregnancies  glucose  blood_pressure  skin_thickness  insulin  \\\n",
       "0            6      148              72              35        0   \n",
       "1            1       85              66              29        0   \n",
       "2            8      183              64               0        0   \n",
       "3            1       89              66              23       94   \n",
       "4            0      137              40              35      168   \n",
       "\n",
       "   body_mass_index  pedigree  age  label  \n",
       "0             33.6     0.627   50      1  \n",
       "1             26.6     0.351   31      0  \n",
       "2             23.3     0.672   32      1  \n",
       "3             28.1     0.167   21      0  \n",
       "4             43.1     2.288   33      1  "
      ]
     },
     "execution_count": 88,
     "metadata": {},
     "output_type": "execute_result"
    }
   ],
   "source": [
    "# Load dataset\n",
    "dataset = pd.read_csv(\"./data/diabetes.csv\")\n",
    "\n",
    "# Feature renaming\n",
    "dataset.columns = [\"pregnancies\", \"glucose\", \"blood_pressure\", \"skin_thickness\", \"insulin\", \"body_mass_index\", \"pedigree\", \"age\", \"label\"]\n",
    "\n",
    "# Get first 5 examples\n",
    "dataset.head()"
   ]
  },
  {
   "cell_type": "markdown",
   "metadata": {},
   "source": [
    "All features are quantitative so no one-hot encoding is required.  The data, however, is not normalized or standardized so some preprocessing will need to be done.  Features such as insulin and skin thickness have 0 values which does not make sense."
   ]
  },
  {
   "cell_type": "markdown",
   "metadata": {},
   "source": [
    "### Check for NaN Values"
   ]
  },
  {
   "cell_type": "code",
   "execution_count": 89,
   "metadata": {
    "scrolled": true
   },
   "outputs": [
    {
     "data": {
      "text/plain": [
       "pregnancies        0\n",
       "glucose            0\n",
       "blood_pressure     0\n",
       "skin_thickness     0\n",
       "insulin            0\n",
       "body_mass_index    0\n",
       "pedigree           0\n",
       "age                0\n",
       "label              0\n",
       "dtype: int64"
      ]
     },
     "execution_count": 89,
     "metadata": {},
     "output_type": "execute_result"
    }
   ],
   "source": [
    "# Check for NaN values\n",
    "dataset.isnull().sum()"
   ]
  },
  {
   "cell_type": "markdown",
   "metadata": {},
   "source": [
    "Data does not contain any NaN values."
   ]
  },
  {
   "cell_type": "markdown",
   "metadata": {},
   "source": [
    "### Check for 0 Values"
   ]
  },
  {
   "cell_type": "code",
   "execution_count": 90,
   "metadata": {},
   "outputs": [
    {
     "data": {
      "text/plain": [
       "pregnancies        111\n",
       "glucose              5\n",
       "blood_pressure      35\n",
       "skin_thickness     227\n",
       "insulin            374\n",
       "body_mass_index     11\n",
       "pedigree             0\n",
       "age                  0\n",
       "label              500\n",
       "dtype: int64"
      ]
     },
     "execution_count": 90,
     "metadata": {},
     "output_type": "execute_result"
    }
   ],
   "source": [
    "# Check for 0 values\n",
    "(dataset == 0).astype(int).sum()"
   ]
  },
  {
   "cell_type": "markdown",
   "metadata": {},
   "source": [
    "Data contains 0 values for features that can not be 0 such as glucose, blood pressure, skin thickness, insulin, and body mass index.  These 0 values will be replaced by the mean."
   ]
  },
  {
   "cell_type": "markdown",
   "metadata": {},
   "source": [
    "### Check for Duplicates"
   ]
  },
  {
   "cell_type": "code",
   "execution_count": 91,
   "metadata": {},
   "outputs": [
    {
     "data": {
      "text/plain": [
       "False    768\n",
       "dtype: int64"
      ]
     },
     "execution_count": 91,
     "metadata": {},
     "output_type": "execute_result"
    }
   ],
   "source": [
    "# Check for duplicate values\n",
    "dataset.duplicated().value_counts()"
   ]
  },
  {
   "cell_type": "markdown",
   "metadata": {},
   "source": [
    "### Get Unique Labels"
   ]
  },
  {
   "cell_type": "code",
   "execution_count": 92,
   "metadata": {},
   "outputs": [
    {
     "data": {
      "text/plain": [
       "array([1, 0])"
      ]
     },
     "execution_count": 92,
     "metadata": {},
     "output_type": "execute_result"
    }
   ],
   "source": [
    "dataset.label.unique()"
   ]
  },
  {
   "cell_type": "markdown",
   "metadata": {},
   "source": [
    "Labels are binary so this is a binary classification problem.  (0 meaning no diabetes and 1 meaning diabetes)"
   ]
  },
  {
   "cell_type": "markdown",
   "metadata": {},
   "source": [
    "## Data Preprocessing"
   ]
  },
  {
   "cell_type": "code",
   "execution_count": 94,
   "metadata": {},
   "outputs": [
    {
     "data": {
      "text/plain": [
       "0      False\n",
       "1      False\n",
       "2      False\n",
       "3      False\n",
       "4      False\n",
       "5      False\n",
       "6      False\n",
       "7      False\n",
       "8      False\n",
       "9      False\n",
       "10     False\n",
       "11     False\n",
       "12     False\n",
       "13     False\n",
       "14     False\n",
       "15     False\n",
       "16     False\n",
       "17     False\n",
       "18     False\n",
       "19     False\n",
       "20     False\n",
       "21     False\n",
       "22     False\n",
       "23     False\n",
       "24     False\n",
       "25     False\n",
       "26     False\n",
       "27     False\n",
       "28     False\n",
       "29     False\n",
       "       ...  \n",
       "738    False\n",
       "739    False\n",
       "740    False\n",
       "741    False\n",
       "742    False\n",
       "743    False\n",
       "744    False\n",
       "745    False\n",
       "746    False\n",
       "747    False\n",
       "748    False\n",
       "749    False\n",
       "750    False\n",
       "751    False\n",
       "752    False\n",
       "753    False\n",
       "754    False\n",
       "755    False\n",
       "756    False\n",
       "757    False\n",
       "758    False\n",
       "759    False\n",
       "760    False\n",
       "761    False\n",
       "762    False\n",
       "763    False\n",
       "764    False\n",
       "765    False\n",
       "766    False\n",
       "767    False\n",
       "Name: glucose, Length: 768, dtype: bool"
      ]
     },
     "execution_count": 94,
     "metadata": {},
     "output_type": "execute_result"
    }
   ],
   "source": [
    "dataset[dataset[\"glucose\"] == 0"
   ]
  },
  {
   "cell_type": "code",
   "execution_count": 86,
   "metadata": {},
   "outputs": [
    {
     "name": "stdout",
     "output_type": "stream",
     "text": [
      "pregnancies        111\n",
      "glucose              0\n",
      "blood_pressure       0\n",
      "skin_thickness       0\n",
      "insulin              0\n",
      "body_mass_index      0\n",
      "pedigree             0\n",
      "age                  0\n",
      "label              500\n",
      "dtype: int64\n"
     ]
    },
    {
     "data": {
      "text/html": [
       "<div>\n",
       "<style scoped>\n",
       "    .dataframe tbody tr th:only-of-type {\n",
       "        vertical-align: middle;\n",
       "    }\n",
       "\n",
       "    .dataframe tbody tr th {\n",
       "        vertical-align: top;\n",
       "    }\n",
       "\n",
       "    .dataframe thead th {\n",
       "        text-align: right;\n",
       "    }\n",
       "</style>\n",
       "<table border=\"1\" class=\"dataframe\">\n",
       "  <thead>\n",
       "    <tr style=\"text-align: right;\">\n",
       "      <th></th>\n",
       "      <th>count</th>\n",
       "      <th>mean</th>\n",
       "      <th>std</th>\n",
       "      <th>min</th>\n",
       "      <th>25%</th>\n",
       "      <th>50%</th>\n",
       "      <th>75%</th>\n",
       "      <th>max</th>\n",
       "    </tr>\n",
       "  </thead>\n",
       "  <tbody>\n",
       "    <tr>\n",
       "      <th>pregnancies</th>\n",
       "      <td>768.0</td>\n",
       "      <td>-0.0</td>\n",
       "      <td>1.0</td>\n",
       "      <td>-1.14</td>\n",
       "      <td>-0.84</td>\n",
       "      <td>-0.25</td>\n",
       "      <td>0.64</td>\n",
       "      <td>3.91</td>\n",
       "    </tr>\n",
       "    <tr>\n",
       "      <th>glucose</th>\n",
       "      <td>768.0</td>\n",
       "      <td>-0.0</td>\n",
       "      <td>1.0</td>\n",
       "      <td>-2.55</td>\n",
       "      <td>-0.72</td>\n",
       "      <td>-0.15</td>\n",
       "      <td>0.61</td>\n",
       "      <td>2.54</td>\n",
       "    </tr>\n",
       "    <tr>\n",
       "      <th>blood_pressure</th>\n",
       "      <td>768.0</td>\n",
       "      <td>0.0</td>\n",
       "      <td>1.0</td>\n",
       "      <td>-4.00</td>\n",
       "      <td>-0.70</td>\n",
       "      <td>-0.02</td>\n",
       "      <td>0.63</td>\n",
       "      <td>4.10</td>\n",
       "    </tr>\n",
       "    <tr>\n",
       "      <th>skin_thickness</th>\n",
       "      <td>768.0</td>\n",
       "      <td>0.0</td>\n",
       "      <td>1.0</td>\n",
       "      <td>-2.52</td>\n",
       "      <td>-0.47</td>\n",
       "      <td>0.00</td>\n",
       "      <td>0.32</td>\n",
       "      <td>7.95</td>\n",
       "    </tr>\n",
       "    <tr>\n",
       "      <th>insulin</th>\n",
       "      <td>768.0</td>\n",
       "      <td>-0.0</td>\n",
       "      <td>1.0</td>\n",
       "      <td>-1.67</td>\n",
       "      <td>-0.40</td>\n",
       "      <td>-0.00</td>\n",
       "      <td>-0.00</td>\n",
       "      <td>8.13</td>\n",
       "    </tr>\n",
       "    <tr>\n",
       "      <th>body_mass_index</th>\n",
       "      <td>768.0</td>\n",
       "      <td>0.0</td>\n",
       "      <td>1.0</td>\n",
       "      <td>-2.08</td>\n",
       "      <td>-0.72</td>\n",
       "      <td>-0.01</td>\n",
       "      <td>0.60</td>\n",
       "      <td>5.04</td>\n",
       "    </tr>\n",
       "    <tr>\n",
       "      <th>pedigree</th>\n",
       "      <td>768.0</td>\n",
       "      <td>0.0</td>\n",
       "      <td>1.0</td>\n",
       "      <td>-1.19</td>\n",
       "      <td>-0.69</td>\n",
       "      <td>-0.30</td>\n",
       "      <td>0.47</td>\n",
       "      <td>5.88</td>\n",
       "    </tr>\n",
       "    <tr>\n",
       "      <th>age</th>\n",
       "      <td>768.0</td>\n",
       "      <td>0.0</td>\n",
       "      <td>1.0</td>\n",
       "      <td>-1.04</td>\n",
       "      <td>-0.79</td>\n",
       "      <td>-0.36</td>\n",
       "      <td>0.66</td>\n",
       "      <td>4.06</td>\n",
       "    </tr>\n",
       "  </tbody>\n",
       "</table>\n",
       "</div>"
      ],
      "text/plain": [
       "                 count  mean  std   min   25%   50%   75%   max\n",
       "pregnancies      768.0  -0.0  1.0 -1.14 -0.84 -0.25  0.64  3.91\n",
       "glucose          768.0  -0.0  1.0 -2.55 -0.72 -0.15  0.61  2.54\n",
       "blood_pressure   768.0   0.0  1.0 -4.00 -0.70 -0.02  0.63  4.10\n",
       "skin_thickness   768.0   0.0  1.0 -2.52 -0.47  0.00  0.32  7.95\n",
       "insulin          768.0  -0.0  1.0 -1.67 -0.40 -0.00 -0.00  8.13\n",
       "body_mass_index  768.0   0.0  1.0 -2.08 -0.72 -0.01  0.60  5.04\n",
       "pedigree         768.0   0.0  1.0 -1.19 -0.69 -0.30  0.47  5.88\n",
       "age              768.0   0.0  1.0 -1.04 -0.79 -0.36  0.66  4.06"
      ]
     },
     "execution_count": 86,
     "metadata": {},
     "output_type": "execute_result"
    }
   ],
   "source": [
    "from sklearn.preprocessing import scale\n",
    "\n",
    "# Replace zeros with means\n",
    "non_zero_cols = [\"glucose\", \"blood_pressure\", \"skin_thickness\", \"insulin\", \"body_mass_index\"]\n",
    "for col in non_zero_cols:\n",
    "    copy_dataset = dataset.drop(dataset[dataset[col] == 0].index)\n",
    "    mean = copy_dataset[col].mean()\n",
    "    dataset[col].mask(dataset[col] == 0, mean, inplace=True)\n",
    "    \n",
    "# Zero replace sanity check\n",
    "print((dataset == 0).astype(int).sum())\n",
    "    \n",
    "# Feature-label splitting\n",
    "features = dataset.drop(\"label\", axis=1)\n",
    "labels = dataset[[\"label\"]]\n",
    "\n",
    "# Data standardization\n",
    "features[features.columns] = scale(features[features.columns])\n",
    "\n",
    "# Data summary\n",
    "features.describe().T.round(2)"
   ]
  },
  {
   "cell_type": "markdown",
   "metadata": {},
   "source": [
    "## Exploratory Data Analysis"
   ]
  },
  {
   "cell_type": "code",
   "execution_count": 63,
   "metadata": {},
   "outputs": [],
   "source": [
    "import seaborn as sns\n",
    "import matplotlib.pyplot as plt"
   ]
  },
  {
   "cell_type": "markdown",
   "metadata": {},
   "source": [
    "### Label Counts"
   ]
  },
  {
   "cell_type": "code",
   "execution_count": 64,
   "metadata": {
    "scrolled": true
   },
   "outputs": [
    {
     "data": {
      "image/png": "[encoded data removed]",
      "text/plain": [
       "<Figure size 432x288 with 1 Axes>"
      ]
     },
     "metadata": {
      "needs_background": "light"
     },
     "output_type": "display_data"
    }
   ],
   "source": [
    "# Label count\n",
    "plt.title(\"Label Count\")\n",
    "sns.countplot(labels.label)\n",
    "plt.show()"
   ]
  },
  {
   "cell_type": "markdown",
   "metadata": {},
   "source": [
    "There are significantly more subjects without diabetes than with diabetes as shown above."
   ]
  },
  {
   "cell_type": "markdown",
   "metadata": {},
   "source": [
    "### Feature-Label Correlation"
   ]
  },
  {
   "cell_type": "code",
   "execution_count": 65,
   "metadata": {},
   "outputs": [
    {
     "data": {
      "image/png": "[encoded data removed]",
      "text/plain": [
       "<Figure size 1296x432 with 1 Axes>"
      ]
     },
     "metadata": {
      "needs_background": "light"
     },
     "output_type": "display_data"
    }
   ],
   "source": [
    "# Getting feature-label correlation\n",
    "correlation = dataset.corr()\n",
    "label_correlation = correlation[\"label\"]\n",
    "label_correlation.drop(\"label\", inplace=True)\n",
    "\n",
    "# Plot\n",
    "plt.figure(figsize=(18, 6))\n",
    "plt.title(\"Feature vs Label Correlation\")\n",
    "sns.barplot(label_correlation.index, label_correlation.values)\n",
    "plt.show()"
   ]
  },
  {
   "cell_type": "markdown",
   "metadata": {},
   "source": [
    "Glucose amount has the greatest correlation with diabetes with a value close to 0.5.  Body mass index also has a fairly high correlation while most other features have a correlation between 0.15 and 0.3.  It was surprising to see that insulin had such a low correlation."
   ]
  },
  {
   "cell_type": "markdown",
   "metadata": {},
   "source": [
    "### Feature Distributions"
   ]
  },
  {
   "cell_type": "code",
   "execution_count": 66,
   "metadata": {},
   "outputs": [
    {
     "data": {
      "text/plain": [
       "[]"
      ]
     },
     "execution_count": 66,
     "metadata": {},
     "output_type": "execute_result"
    },
    {
     "data": {
      "image/png": "[encoded data removed]",
      "text/plain": [
       "<Figure size 1440x1440 with 9 Axes>"
      ]
     },
     "metadata": {
      "needs_background": "light"
     },
     "output_type": "display_data"
    }
   ],
   "source": [
    "# Visualizing feature distributions\n",
    "features.hist(figsize=(20,20))\n",
    "plt.plot()"
   ]
  },
  {
   "cell_type": "markdown",
   "metadata": {},
   "source": [
    "All features except for skin thickness are skewed to the right with the most skewed being age, pedigree, and pregnancies."
   ]
  },
  {
   "cell_type": "markdown",
   "metadata": {},
   "source": [
    "## Models"
   ]
  },
  {
   "cell_type": "markdown",
   "metadata": {},
   "source": [
    "### Utility functions"
   ]
  },
  {
   "cell_type": "code",
   "execution_count": 67,
   "metadata": {},
   "outputs": [],
   "source": [
    "from sklearn.model_selection import train_test_split, StratifiedKFold, RandomizedSearchCV\n",
    "from keras.wrappers.scikit_learn import KerasClassifier\n",
    "\n",
    "def split_data():\n",
    "    return train_test_split(features, labels, train_size=0.8, shuffle=True)\n",
    "\n",
    "def avg_acc(function, iterations):\n",
    "    sum = 0.0\n",
    "    for i in range(iterations):\n",
    "         sum += function()\n",
    "    print(\"Avg Accuracy: {}\".format(sum / iterations))\n",
    "\n",
    "def nn_plot_hist(hist):\n",
    "    # Plot loss\n",
    "    figure, (loss, acc) = plt.subplots(1, 2, figsize=(8,4))\n",
    "    loss.set_title(\"Loss\")\n",
    "    loss.plot(hist.history[\"loss\"])\n",
    "    loss.plot(hist.history[\"val_loss\"])\n",
    "\n",
    "    # Plot accuracy\n",
    "    acc.set_title(\"Accuracy\")\n",
    "    acc.plot(hist.history[\"acc\"])\n",
    "    acc.plot(hist.history[\"val_acc\"])\n",
    "    plt.show()\n",
    "    \n",
    "def nn_k_fold_validation(k=3, should_plot=False, lr=0.0004, dp=0.25, epochs=100, batch_size=32):\n",
    "    train_data, test_data, train_labels, test_labels = split_data()\n",
    "    skf = StratifiedKFold(n_splits=k, shuffle=True)\n",
    "    \n",
    "    avg_acc = 0\n",
    "    for i, (train_indexes, val_indexes) in enumerate(skf.split(train_data, train_labels)):\n",
    "        # Define data, labels, val_data, and val_labels\n",
    "        data = train_data.values[train_indexes]\n",
    "        labels = train_labels.values[train_indexes]\n",
    "        val_data = train_data.values[val_indexes]\n",
    "        val_labels = train_labels.values[val_indexes]\n",
    "        \n",
    "        # Create new model\n",
    "        model = Model(lr=lr, dp=dp)\n",
    "                \n",
    "        # Fit and plot model\n",
    "        hist = model.fit(data, labels, (val_data, val_labels), epochs=epochs, batch_size=batch_size)\n",
    "        if should_plot:\n",
    "            nn_plot_hist(hist)\n",
    "        avg_acc += hist.history[\"val_acc\"][-1]\n",
    "        \n",
    "    avg_acc /= k\n",
    "    return avg_acc\n",
    "    \n",
    "def nn_rand_tune(n_iter=5):\n",
    "    # Split data\n",
    "    train_data, test_data, train_labels, test_labels = split_data()\n",
    "    \n",
    "    # Initialize model and tuner\n",
    "    model = Model()\n",
    "    tuner = KerasClassifier(build_fn=model.create_model)\n",
    "    \n",
    "    # Define hyperparameters\n",
    "    lr=[0.1, 0.15, 0.2]\n",
    "    dp=[0.2, 0.3, 0.4]\n",
    "    batch_size = [16, 32, 64]\n",
    "    num_n = [16, 32, 64]\n",
    "    \n",
    "    # Run random search\n",
    "    hyperparams = dict(lr=lr, dp=dp, batch_size=batch_size, num_n=num_n)\n",
    "    random_search = RandomizedSearchCV(estimator=tuner, param_distributions=hyperparams, n_iter=n_iter)\n",
    "    results = random_search.fit(train_data, train_labels)\n",
    "    \n",
    "    \n",
    "    results_df = pd.DataFrame(results.cv_results_).sort_values(\"rank_test_score\")\n",
    "    print(results_df)\n",
    "    \n",
    "def nn_iter_tune(upper_bound, lower_bound, hyperparam_name, scaler=10, k=3, is_exp=False):\n",
    "    curr_val = upper_bound\n",
    "    val_lst = []\n",
    "    acc_lst = []\n",
    "    while curr_val >= lower_bound:\n",
    "        val_lst.append(curr_val)\n",
    "        \n",
    "        acc = nn_k_fold_validation(k, **{hyperparam_name: curr_val})\n",
    "        acc_lst.append(acc)\n",
    "        print(\"Accuracy {} at value {}\".format(acc, curr_val))\n",
    "        \n",
    "        if is_exp:\n",
    "            curr_val /= scaler\n",
    "        else:\n",
    "            curr_val -= scaler\n",
    "            \n",
    "    plt.plot(val_lst, acc_lst, \"o-\")\n",
    "    if is_exp:\n",
    "        plt.xscale(\"log\", basex=scaler)\n",
    "    plt.show()"
   ]
  },
  {
   "cell_type": "markdown",
   "metadata": {},
   "source": [
    "### Support Vector Machine"
   ]
  },
  {
   "cell_type": "code",
   "execution_count": 72,
   "metadata": {},
   "outputs": [
    {
     "name": "stdout",
     "output_type": "stream",
     "text": [
      "Avg Accuracy: 0.7467532467532468\n"
     ]
    }
   ],
   "source": [
    "from sklearn.svm import SVC\n",
    "\n",
    "def train_svm():\n",
    "    # Split data\n",
    "    train_data, test_data, train_labels, test_labels = split_data()\n",
    "    \n",
    "    # Initialize and fit model\n",
    "    model = SVC()\n",
    "    model.fit(train_data, train_labels)\n",
    "    \n",
    "    # Return accuracy\n",
    "    return model.score(test_data, test_labels)\n",
    "\n",
    "avg_acc(train_svm, iterations=20)"
   ]
  },
  {
   "cell_type": "markdown",
   "metadata": {},
   "source": [
    "### Neural Network"
   ]
  },
  {
   "cell_type": "code",
   "execution_count": 15,
   "metadata": {},
   "outputs": [],
   "source": [
    "from keras.models import Sequential\n",
    "from keras.layers import Dense, BatchNormalization, Activation, Dropout\n",
    "from keras.optimizers import Adam\n",
    "from keras.regularizers import l2"
   ]
  },
  {
   "cell_type": "code",
   "execution_count": 16,
   "metadata": {},
   "outputs": [],
   "source": [
    "class Model():\n",
    "    def __init__(self, lr=1e-1, dp=0, num_n=16):\n",
    "        self.model = self.create_model(lr, dp, num_n)\n",
    "        \n",
    "    def create_model(self, lr, dp, num_n):\n",
    "        model = Sequential()\n",
    "        \n",
    "        # Hidden layer\n",
    "        model.add(Dense(num_n, input_dim=8))\n",
    "        model.add(BatchNormalization(axis=1))\n",
    "        model.add(Activation(\"relu\"))\n",
    "        model.add(Dropout(rate=dp))\n",
    "        \n",
    "        # Hidden layer\n",
    "        model.add(Dense(num_n))\n",
    "        model.add(BatchNormalization(axis=1))\n",
    "        model.add(Activation(\"relu\"))\n",
    "        model.add(Dropout(rate=dp))\n",
    "        \n",
    "        # Output layer\n",
    "        model.add(Dense(1))\n",
    "        model.add(BatchNormalization(axis=1))\n",
    "        model.add(Activation(\"sigmoid\"))\n",
    "        model.compile(loss=\"binary_crossentropy\", optimizer=Adam(lr=lr), metrics=[\"accuracy\"])\n",
    "        \n",
    "        return model\n",
    "        \n",
    "    def fit(self, train_data, train_labels, validation_data=None, epochs=100, batch_size=32):\n",
    "        history = self.model.fit(train_data, \n",
    "                                 train_labels, \n",
    "                                 validation_data=validation_data,\n",
    "                                 validation_split=0.2,\n",
    "                                 epochs=epochs, \n",
    "                                 batch_size=batch_size, \n",
    "                                 verbose=0)\n",
    "        return history\n",
    "        \n",
    "    def score(self, test_data, test_labels):\n",
    "        return self.model.evaluate(test_data, test_labels, verbose=0)[1]"
   ]
  },
  {
   "cell_type": "code",
   "execution_count": 17,
   "metadata": {},
   "outputs": [],
   "source": [
    "# nn_iter_tune(50, 10, \"batch_size\", scaler=5, k=10, is_exp=False)"
   ]
  },
  {
   "cell_type": "code",
   "execution_count": 18,
   "metadata": {},
   "outputs": [],
   "source": [
    "# nn_k_fold_validation(k=15, should_plot=True, lr=0.0004, dp=0.25, batch_size=32)"
   ]
  },
  {
   "cell_type": "code",
   "execution_count": 73,
   "metadata": {},
   "outputs": [
    {
     "name": "stdout",
     "output_type": "stream",
     "text": [
      "Avg Accuracy: 0.7525974015136818\n"
     ]
    }
   ],
   "source": [
    "def evaluate_model():\n",
    "    train_data, test_data, train_labels, test_labels = split_data()\n",
    "    model = Model(0.0004, 0.25, 16)\n",
    "    model.fit(train_data, train_labels)\n",
    "    return model.score(test_data, test_labels)\n",
    "avg_acc(evaluate_model, iterations=20)"
   ]
  },
  {
   "cell_type": "code",
   "execution_count": null,
   "metadata": {},
   "outputs": [],
   "source": []
  }
 ],
 "metadata": {
  "kernelspec": {
   "display_name": "Python 3",
   "language": "python",
   "name": "python3"
  },
  "language_info": {
   "codemirror_mode": {
    "name": "ipython",
    "version": 3
   },
   "file_extension": ".py",
   "mimetype": "text/x-python",
   "name": "python",
   "nbconvert_exporter": "python",
   "pygments_lexer": "ipython3",
   "version": "3.6.7"
  }
 },
 "nbformat": 4,
 "nbformat_minor": 2
}
